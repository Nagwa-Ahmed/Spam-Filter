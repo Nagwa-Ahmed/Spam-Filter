{
  "cells": [
    {
      "cell_type": "markdown",
      "id": "e31bc851",
      "metadata": {
        "id": "e31bc851"
      },
      "source": [
        "# **Spam Filter using Naive Bayes**"
      ]
    },
    {
      "cell_type": "code",
      "source": [
        "#installing pyspark\n",
        "!pip install pyspark"
      ],
      "metadata": {
        "colab": {
          "base_uri": "https://localhost:8080/"
        },
        "id": "6CCQ_HBSu3Sf",
        "outputId": "56d66287-6566-412d-dfce-5635157c0c39"
      },
      "id": "6CCQ_HBSu3Sf",
      "execution_count": 1,
      "outputs": [
        {
          "output_type": "stream",
          "name": "stdout",
          "text": [
            "Collecting pyspark\n",
            "  Downloading pyspark-3.5.1.tar.gz (317.0 MB)\n",
            "\u001b[2K     \u001b[90m━━━━━━━━━━━━━━━━━━━━━━━━━━━━━━━━━━━━━━━━\u001b[0m \u001b[32m317.0/317.0 MB\u001b[0m \u001b[31m2.6 MB/s\u001b[0m eta \u001b[36m0:00:00\u001b[0m\n",
            "\u001b[?25h  Preparing metadata (setup.py) ... \u001b[?25l\u001b[?25hdone\n",
            "Requirement already satisfied: py4j==0.10.9.7 in /usr/local/lib/python3.10/dist-packages (from pyspark) (0.10.9.7)\n",
            "Building wheels for collected packages: pyspark\n",
            "  Building wheel for pyspark (setup.py) ... \u001b[?25l\u001b[?25hdone\n",
            "  Created wheel for pyspark: filename=pyspark-3.5.1-py2.py3-none-any.whl size=317488491 sha256=5b3638ea1ea1b3a221771b93e87bf31cc9271de1ab928bb75f61dc7cb2258edd\n",
            "  Stored in directory: /root/.cache/pip/wheels/80/1d/60/2c256ed38dddce2fdd93be545214a63e02fbd8d74fb0b7f3a6\n",
            "Successfully built pyspark\n",
            "Installing collected packages: pyspark\n",
            "Successfully installed pyspark-3.5.1\n"
          ]
        }
      ]
    },
    {
      "cell_type": "code",
      "execution_count": 2,
      "id": "dcf86e46",
      "metadata": {
        "id": "dcf86e46"
      },
      "outputs": [],
      "source": [
        "#creating a spark session\n",
        "from pyspark.sql import SparkSession\n",
        "spark=SparkSession.builder.getOrCreate()\n",
        "from pyspark.sql.functions import *\n",
        "from pyspark.sql.types import *"
      ]
    },
    {
      "cell_type": "markdown",
      "id": "90c7df9e",
      "metadata": {
        "id": "90c7df9e"
      },
      "source": [
        "## **Reading Data**"
      ]
    },
    {
      "cell_type": "code",
      "source": [
        "from google.colab import drive\n",
        "drive.mount('/content/drive')"
      ],
      "metadata": {
        "colab": {
          "base_uri": "https://localhost:8080/"
        },
        "id": "csiuKM6NEoHm",
        "outputId": "f1810aba-ede2-4336-b6b5-8e0f18179cc8"
      },
      "id": "csiuKM6NEoHm",
      "execution_count": 22,
      "outputs": [
        {
          "output_type": "stream",
          "name": "stdout",
          "text": [
            "Drive already mounted at /content/drive; to attempt to forcibly remount, call drive.mount(\"/content/drive\", force_remount=True).\n"
          ]
        }
      ]
    },
    {
      "cell_type": "code",
      "source": [
        "#reading the readme file\n",
        "readme=spark.read.option(\"sep\", \"\\t\").option(\"header\", \"False\").csv(\"/content/drive/MyDrive/readme\")\n",
        "#spark.read.text('/content/readme',lineSep='\\n')\n",
        "\n",
        "#showing it\n",
        "readme.show(n=75,truncate=500)"
      ],
      "metadata": {
        "colab": {
          "base_uri": "https://localhost:8080/"
        },
        "id": "se3-jicEvjHQ",
        "outputId": "be139edc-e7cf-42ae-ee04-77a5c6226e65"
      },
      "id": "se3-jicEvjHQ",
      "execution_count": 5,
      "outputs": [
        {
          "output_type": "stream",
          "name": "stdout",
          "text": [
            "+--------------------------------------------------------------------------------------------------------------------------------------------------------------------------------------------------------------------------------------------------------------------------------------------------------------------------------------------------------------------------------------------------------------------------------------------------------------------------------------------------------------------+\n",
            "|                                                                                                                                                                                                                                                                                                                                                                                                                                                                                                                 _c0|\n",
            "+--------------------------------------------------------------------------------------------------------------------------------------------------------------------------------------------------------------------------------------------------------------------------------------------------------------------------------------------------------------------------------------------------------------------------------------------------------------------------------------------------------------------+\n",
            "|                                                                                                                                                                                                                                                                                                                                                                                                                                                                                             SMS Spam Collection v.1|\n",
            "|                                                                                                                                                                                                                                                                                                                                                                                                                                                                                           -------------------------|\n",
            "|                                                                                                                                                                                                                                                                                                                                                                                                                                                                                                      1. DESCRIPTION|\n",
            "|                                                                                                                                                                                                                                                                                                                                                                                                                                                                                                      --------------|\n",
            "|                                                                                                                                                                                                                                                               The SMS Spam Collection v.1 (hereafter the corpus) is a set of SMS tagged messages that have been collected for SMS Spam research. It contains one set of SMS messages in English of 5,574 messages, tagged acording being ham (legitimate) or spam. |\n",
            "|                                                                                                                                                                                                                                                                                                                                                                                                                                                                                                    1.1. Compilation|\n",
            "|                                                                                                                                                                                                                                                                                                                                                                                                                                                                                                    ----------------|\n",
            "|                                                                                                                                                                                                                                                                                                                                                                                                                                   This corpus has been collected from free or free for research sources at the Web:|\n",
            "|                                - A collection of between 425 SMS spam messages extracted manually from the Grumbletext Web site. This is a UK forum in which cell phone users make public claims about SMS spam messages, most of them without reporting the very spam message received. The identification of the text of spam messages in the claims is a very hard and time-consuming task, and it involved carefully scanning hundreds of web pages. The Grumbletext Web site is: http://www.grumbletext.co.uk/|\n",
            "|                                                                                                                                                                                                                                                                                                                                                                                - A list of 450 SMS ham messages collected from Caroline Tag's PhD Theses available at http://etheses.bham.ac.uk/253/1/Tagg09PhD.pdf|\n",
            "|- A subset of 3,375 SMS ham messages of the NUS SMS Corpus (NSC), which is a corpus of about 10,000 legitimate messages collected for research at the Department of Computer Science at the National University of Singapore. The messages largely originate from Singaporeans and mostly from students attending the University. These messages were collected from volunteers who were made aware that their contributions were going to be made publicly available. The NUS SMS Corpus is avalaible at: http:/...|\n",
            "|                                                                                                                                                                                                                                                                                                 - The amount of 1,002 SMS ham messages and 322 spam messages extracted from the SMS Spam Corpus v.0.1 Big created by Jos� Mar�a G�mez Hidalgo and public available at: http://www.esp.uem.es/jmgomez/smsspamcorpus/|\n",
            "|                                                                                                                                                                                                                                                                                                                                                                                                                                                                                                     1.2. Statistics|\n",
            "|                                                                                                                                                                                                                                                                                                                                                                                                                                                                                                     ---------------|\n",
            "|                                                                                                                                                                                                                                                                                                                                                                                                                                                                                            There is one collection:|\n",
            "|                                                                                                                                                                                                                                                                                                                                                         - The SMS Spam Collection v.1 (text file: smsspamcollection) has a total of 4,827 SMS legitimate messages (86.6%) and a total of 747 (13.4%) spam messages.|\n",
            "|                                                                                                                                                                                                                                                                                                                                                                                                                                                                                                         1.3. Format|\n",
            "|                                                                                                                                                                                                                                                                                                                                                                                                                                                                                                         -----------|\n",
            "|                                                                                                                                                                                                                                                                                                                                                     The files contain one message per line. Each line is composed by two columns: one with label (ham or spam) and other with the raw text. Here are some examples:|\n",
            "|                                                                                                                                                                                                                                                                                                                                                                                                                                                                                   ham   What you doing?how are you?|\n",
            "|                                                                                                                                                                                                                                                                                                                                                                                                                                                                                 ham   Ok lar... Joking wif u oni...|\n",
            "|                                                                                                                                                                                                                                                                                                                                                                                                                                                               ham   dun say so early hor... U c already then say...|\n",
            "|                                                                                                                                                                                                                                                                                                                                                                                                                                                           ham   MY NO. IN LUTON 0125698789 RING ME IF UR AROUND! H*|\n",
            "|                                                                                                                                                                                                                                                                                                                                                                                                                                                                                      ham   Siva is in hostel aha:-.|\n",
            "|                                                                                                                                                                                                                                                                                                                                                ham   Cos i was out shopping wif darren jus now n i called him 2 ask wat present he wan lor. Then he started guessing who i was wif n he finally guessed darren lor.|\n",
            "|                                                                                                                                                                                                                                                                                                                                                             spam   FreeMsg: Txt: CALL to No: 86888 & claim your reward of 3 hours talk time to use from your phone now! ubscribe6GBP/ mnth inc 3hrs 16 stop?txtStop|\n",
            "|                                                                                                                                                                                                                                                                                                                                                                                                 spam   Sunshine Quiz! Win a super Sony DVD recorder if you canname the capital of Australia? Text MQUIZ to 82277. B|\n",
            "|                                                                                                                                                                                                                                                                                                                                                   spam   URGENT! Your Mobile No 07808726822 was awarded a L2,000 Bonus Caller Prize on 02/09/03! This is our 2nd attempt to contact YOU! Call 0871-872-9758 BOX95QU|\n",
            "|                                                                                                                                                                                                                                                                                                                                                                                                                                                                      Note: messages are not chronologically sorted.|\n",
            "|                                                                                                                                                                                                                                                                                                                                                                                                                                                                                                            2. USAGE|\n",
            "|                                                                                                                                                                                                                                                                                                                                                                                                                                                                                                            --------|\n",
            "|                                                                                                                                                                                                                                                                                                            We offer a comprehensive study of this corpus in the following paper that is under review. This work presents a number of statistics, studies and baseline results for several machine learning methods.|\n",
            "|                                                                                                                                                                                                                                                      [1] Almeida, T.A., G�mez Hidalgo, J.M., Yamakami, A. Contributions to the study of SMS Spam Filtering: New Collection and Results. Proceedings of the 2011 ACM Symposium on Document Engineering (ACM DOCENG'11), Mountain View, CA, USA, 2011. (Under review)|\n",
            "|                                                                                                                                                                                                                                                                                                                                                                                                                                                                                                            3. ABOUT|\n",
            "|                                                                                                                                                                                                                                                                                                                                                                                                                                                                                                            --------|\n",
            "|                                                                                                                                                                                                                                                                                                                                                     The corpus has been collected by Tiago Agostinho de Almeida (http://www.dt.fee.unicamp.br/~tiago) and Jos� Mar�a G�mez Hidalgo (http://www.esp.uem.es/jmgomez).|\n",
            "|                                                                                                                                                                                                             We would like to thank Dr. Min-Yen Kan (http://www.comp.nus.edu.sg/~kanmy/) and his team for making the NUS SMS Corpus available. See: http://www.comp.nus.edu.sg/~rpnlpir/downloads/corpora/smsCorpus/. He is currently collecting a bigger SMS corpus at: http://wing.comp.nus.edu.sg:8080/SMSCorpus/|\n",
            "|                                                                                                                                                                                                                                                                                                                                                                                                                                                                                               4. LICENSE/DISCLAIMER|\n",
            "|                                                                                                                                                                                                                                                                                                                                                                                                                                                                                               ---------------------|\n",
            "|                                                                                                                                                                                                                                                                                                                                                                                                                                                                                             We would appreciate if:|\n",
            "|                                                                                                                                                                                                                                                                                                                            - In case you find this corpus useful, please make a reference to previous paper and the web page: http://www.dt.fee.unicamp.br/~tiago/smsspamcollection/ in your papers, research, etc.|\n",
            "|                                                                                                                                                                                                                                                                                                                                                                                                                                  - Send us a message to tiago@dt.fee.unicamp.br in case you make use of the corpus.|\n",
            "|                                                                                                                                                                                                                                                                                                                                                                                                                                 The SMS Spam Collection v.1 is provided for free and with no limitations excepting:|\n",
            "|                                                                                                                                                                                                                                                                                                                                                                                                  1. Tiago Agostinho de Almeida and Jos� Mar�a G�mez Hidalgo hold the copyrigth (c) for the SMS Spam Collection v.1.|\n",
            "|2. No Warranty/Use At Your Risk. THE CORPUS IS MADE AT NO CHARGE. ACCORDINGLY, THE CORPUS IS PROVIDED `AS IS,' WITHOUT WARRANTY OF ANY KIND, INCLUDING WITHOUT LIMITATION THE WARRANTIES THAT THEY ARE MERCHANTABLE, FIT FOR A PARTICULAR PURPOSE OR NON-INFRINGING. YOU ARE SOLELY RESPONSIBLE FOR YOUR USE, DISTRIBUTION, MODIFICATION, REPRODUCTION AND PUBLICATION OF THE CORPUS AND ANY DERIVATIVE WORKS THEREOF BY YOU AND ANY OF YOUR SUBLICENSEES (COLLECTIVELY, `YOUR CORPUS USE'). THE ENTIRE RISK AS T...|\n",
            "|3. Limitation of Liability. IN NO EVENT SHALL THE COPYRIGHT HOLDERS OR THEIR AFFILIATES, OR THE CORPUS CONTRIBUTING EDITORS, BE LIABLE FOR ANY INDIRECT, SPECIAL, INCIDENTAL OR CONSEQUENTIAL DAMAGES, INCLUDING, WITHOUT LIMITATION, DAMAGES FOR LOSS OF GOODWILL OR ANY AND ALL OTHER COMMERCIAL DAMAGES OR LOSSES, EVEN IF ADVISED OF THE POSSIBILITY THEREOF, AND REGARDLESS OF WHETHER ANY CLAIM IS BASED UPON ANY CONTRACT, TORT OR OTHER LEGAL OR EQUITABLE THEORY, RELATING OR ARISING FROM THE CORPUS, Y...|\n",
            "+--------------------------------------------------------------------------------------------------------------------------------------------------------------------------------------------------------------------------------------------------------------------------------------------------------------------------------------------------------------------------------------------------------------------------------------------------------------------------------------------------------------------+\n",
            "\n"
          ]
        }
      ]
    },
    {
      "cell_type": "code",
      "execution_count": 6,
      "id": "29914cf1",
      "metadata": {
        "id": "29914cf1"
      },
      "outputs": [],
      "source": [
        "#Creating the schema\n",
        "schema=StructType([\n",
        "    StructField('Label',StringType(),True),\n",
        "    StructField('Text',StringType(),True)\n",
        "    ])"
      ]
    },
    {
      "cell_type": "code",
      "source": [
        "#reading the data\n",
        "df_messages = spark.read.option(\"sep\", \"\\t\").option(\"header\", \"False\").schema(schema).csv(\"/content/drive/MyDrive/SMSSpamCollection\")\n",
        "df_messages.show()"
      ],
      "metadata": {
        "colab": {
          "base_uri": "https://localhost:8080/"
        },
        "id": "FTRaXMHN1D0I",
        "outputId": "2deeb69b-0212-4ce3-af43-586bd8855aff"
      },
      "id": "FTRaXMHN1D0I",
      "execution_count": 7,
      "outputs": [
        {
          "output_type": "stream",
          "name": "stdout",
          "text": [
            "+-----+--------------------+\n",
            "|Label|                Text|\n",
            "+-----+--------------------+\n",
            "|  ham|Go until jurong p...|\n",
            "|  ham|Ok lar... Joking ...|\n",
            "| spam|Free entry in 2 a...|\n",
            "|  ham|U dun say so earl...|\n",
            "|  ham|Nah I don't think...|\n",
            "| spam|FreeMsg Hey there...|\n",
            "|  ham|Even my brother i...|\n",
            "|  ham|As per your reque...|\n",
            "| spam|WINNER!! As a val...|\n",
            "| spam|Had your mobile 1...|\n",
            "|  ham|I'm gonna be home...|\n",
            "| spam|SIX chances to wi...|\n",
            "| spam|URGENT! You have ...|\n",
            "|  ham|I've been searchi...|\n",
            "|  ham|I HAVE A DATE ON ...|\n",
            "| spam|XXXMobileMovieClu...|\n",
            "|  ham|Oh k...i'm watchi...|\n",
            "|  ham|Eh u remember how...|\n",
            "|  ham|Fine if thats th...|\n",
            "| spam|England v Macedon...|\n",
            "+-----+--------------------+\n",
            "only showing top 20 rows\n",
            "\n"
          ]
        }
      ]
    },
    {
      "cell_type": "markdown",
      "id": "182cd7f6",
      "metadata": {
        "id": "182cd7f6"
      },
      "source": [
        "### Print the schema"
      ]
    },
    {
      "cell_type": "code",
      "source": [
        "#printing schema\n",
        "df_messages.printSchema()"
      ],
      "metadata": {
        "colab": {
          "base_uri": "https://localhost:8080/"
        },
        "id": "JriRRCCJ5aj6",
        "outputId": "a2158494-7097-40fa-916b-3b18f3fdeae3"
      },
      "id": "JriRRCCJ5aj6",
      "execution_count": 8,
      "outputs": [
        {
          "output_type": "stream",
          "name": "stdout",
          "text": [
            "root\n",
            " |-- Label: string (nullable = true)\n",
            " |-- Text: string (nullable = true)\n",
            "\n"
          ]
        }
      ]
    },
    {
      "cell_type": "code",
      "source": [
        "#Showing data\n",
        "df_messages.show(n=10,truncate=False)"
      ],
      "metadata": {
        "colab": {
          "base_uri": "https://localhost:8080/"
        },
        "id": "Df8FBOck5pTm",
        "outputId": "edeeaa76-81af-46df-cc35-d21bdb81e4ff"
      },
      "id": "Df8FBOck5pTm",
      "execution_count": 9,
      "outputs": [
        {
          "output_type": "stream",
          "name": "stdout",
          "text": [
            "+-----+----------------------------------------------------------------------------------------------------------------------------------------------------------------+\n",
            "|Label|Text                                                                                                                                                            |\n",
            "+-----+----------------------------------------------------------------------------------------------------------------------------------------------------------------+\n",
            "|ham  |Go until jurong point, crazy.. Available only in bugis n great world la e buffet... Cine there got amore wat...                                                 |\n",
            "|ham  |Ok lar... Joking wif u oni...                                                                                                                                   |\n",
            "|spam |Free entry in 2 a wkly comp to win FA Cup final tkts 21st May 2005. Text FA to 87121 to receive entry question(std txt rate)T&C's apply 08452810075over18's     |\n",
            "|ham  |U dun say so early hor... U c already then say...                                                                                                               |\n",
            "|ham  |Nah I don't think he goes to usf, he lives around here though                                                                                                   |\n",
            "|spam |FreeMsg Hey there darling it's been 3 week's now and no word back! I'd like some fun you up for it still? Tb ok! XxX std chgs to send, £1.50 to rcv             |\n",
            "|ham  |Even my brother is not like to speak with me. They treat me like aids patent.                                                                                   |\n",
            "|ham  |As per your request 'Melle Melle (Oru Minnaminunginte Nurungu Vettam)' has been set as your callertune for all Callers. Press *9 to copy your friends Callertune|\n",
            "|spam |WINNER!! As a valued network customer you have been selected to receivea £900 prize reward! To claim call 09061701461. Claim code KL341. Valid 12 hours only.   |\n",
            "|spam |Had your mobile 11 months or more? U R entitled to Update to the latest colour mobiles with camera for Free! Call The Mobile Update Co FREE on 08002986030      |\n",
            "+-----+----------------------------------------------------------------------------------------------------------------------------------------------------------------+\n",
            "only showing top 10 rows\n",
            "\n"
          ]
        }
      ]
    },
    {
      "cell_type": "markdown",
      "id": "2fe744a9",
      "metadata": {
        "id": "2fe744a9"
      },
      "source": [
        "## **Data Preparation**"
      ]
    },
    {
      "cell_type": "code",
      "execution_count": 10,
      "id": "5424a0cb",
      "metadata": {
        "id": "5424a0cb",
        "colab": {
          "base_uri": "https://localhost:8080/"
        },
        "outputId": "b4bcce4b-b6d7-4cf7-a265-64a0a84a7519"
      },
      "outputs": [
        {
          "output_type": "stream",
          "name": "stdout",
          "text": [
            "+-----+----------------------------------------------------------------------------------------------------------------------------------------------------------------------------------------------------+------+\n",
            "|Label|Text                                                                                                                                                                                                |Length|\n",
            "+-----+----------------------------------------------------------------------------------------------------------------------------------------------------------------------------------------------------+------+\n",
            "|ham  |Go until jurong point, crazy.. Available only in bugis n great world la e buffet... Cine there got amore wat...                                                                                     |111   |\n",
            "|ham  |Ok lar... Joking wif u oni...                                                                                                                                                                       |29    |\n",
            "|spam |Free entry in 2 a wkly comp to win FA Cup final tkts 21st May 2005. Text FA to 87121 to receive entry question(std txt rate)T&C's apply 08452810075over18's                                         |155   |\n",
            "|ham  |U dun say so early hor... U c already then say...                                                                                                                                                   |49    |\n",
            "|ham  |Nah I don't think he goes to usf, he lives around here though                                                                                                                                       |61    |\n",
            "|spam |FreeMsg Hey there darling it's been 3 week's now and no word back! I'd like some fun you up for it still? Tb ok! XxX std chgs to send, £1.50 to rcv                                                 |147   |\n",
            "|ham  |Even my brother is not like to speak with me. They treat me like aids patent.                                                                                                                       |77    |\n",
            "|ham  |As per your request 'Melle Melle (Oru Minnaminunginte Nurungu Vettam)' has been set as your callertune for all Callers. Press *9 to copy your friends Callertune                                    |160   |\n",
            "|spam |WINNER!! As a valued network customer you have been selected to receivea £900 prize reward! To claim call 09061701461. Claim code KL341. Valid 12 hours only.                                       |157   |\n",
            "|spam |Had your mobile 11 months or more? U R entitled to Update to the latest colour mobiles with camera for Free! Call The Mobile Update Co FREE on 08002986030                                          |154   |\n",
            "|ham  |I'm gonna be home soon and i don't want to talk about this stuff anymore tonight, k? I've cried enough today.                                                                                       |109   |\n",
            "|spam |SIX chances to win CASH! From 100 to 20,000 pounds txt> CSH11 and send to 87575. Cost 150p/day, 6days, 16+ TsandCs apply Reply HL 4 info                                                            |136   |\n",
            "|spam |URGENT! You have won a 1 week FREE membership in our £100,000 Prize Jackpot! Txt the word: CLAIM to No: 81010 T&C www.dbuk.net LCCLTD POBOX 4403LDNW1A7RW18                                         |155   |\n",
            "|ham  |I've been searching for the right words to thank you for this breather. I promise i wont take your help for granted and will fulfil my promise. You have been wonderful and a blessing at all times.|196   |\n",
            "|ham  |I HAVE A DATE ON SUNDAY WITH WILL!!                                                                                                                                                                 |35    |\n",
            "|spam |XXXMobileMovieClub: To use your credit, click the WAP link in the next txt message or click here>> http://wap. xxxmobilemovieclub.com?n=QJKGIGHJJGCBL                                               |149   |\n",
            "|ham  |Oh k...i'm watching here:)                                                                                                                                                                          |26    |\n",
            "|ham  |Eh u remember how 2 spell his name... Yes i did. He v naughty make until i v wet.                                                                                                                   |81    |\n",
            "|ham  |Fine if thats the way u feel. Thats the way its gota b                                                                                                                                            |56    |\n",
            "|spam |England v Macedonia - dont miss the goals/team news. Txt ur national team to 87077 eg ENGLAND to 87077 Try:WALES, SCOTLAND 4txt/ú1.20 POBOXox36504W45WQ 16+                                         |155   |\n",
            "+-----+----------------------------------------------------------------------------------------------------------------------------------------------------------------------------------------------------+------+\n",
            "only showing top 20 rows\n",
            "\n"
          ]
        }
      ],
      "source": [
        "#creating length column to find the length of the message ==> it includes spaces as well as characteres\n",
        "df_messages_length=df_messages.withColumn('Length',length(df_messages['Text']))\n",
        "\n",
        "#showing it\n",
        "df_messages_length.show(truncate=False)"
      ]
    },
    {
      "cell_type": "code",
      "source": [
        "#Average text length for each class\n",
        "df_messages_length.groupBy('Label').agg(avg('Length').alias('Avg_length')).show()"
      ],
      "metadata": {
        "colab": {
          "base_uri": "https://localhost:8080/"
        },
        "id": "qEonXjmy7700",
        "outputId": "7740319f-a74f-468a-e86b-9c929a6570ef"
      },
      "id": "qEonXjmy7700",
      "execution_count": 11,
      "outputs": [
        {
          "output_type": "stream",
          "name": "stdout",
          "text": [
            "+-----+-----------------+\n",
            "|Label|       Avg_length|\n",
            "+-----+-----------------+\n",
            "|  ham|71.45431945307645|\n",
            "| spam|138.6706827309237|\n",
            "+-----+-----------------+\n",
            "\n"
          ]
        }
      ]
    },
    {
      "cell_type": "markdown",
      "source": [
        "\n",
        "*   Notably the average text length for spam messages is almost twice that length for ham messages"
      ],
      "metadata": {
        "id": "ecrqCsCg90DK"
      },
      "id": "ecrqCsCg90DK"
    },
    {
      "cell_type": "code",
      "execution_count": 12,
      "id": "6a4eebf8",
      "metadata": {
        "id": "6a4eebf8"
      },
      "outputs": [],
      "source": [
        "from pyspark.ml.feature import Tokenizer,StopWordsRemover,CountVectorizer,IDF,StringIndexer,VectorAssembler"
      ]
    },
    {
      "cell_type": "code",
      "source": [
        "#An object to create tokens\n",
        "tokenizer=Tokenizer(inputCol='Text',outputCol='SplittedWords')\n",
        "\n",
        "#An object to remove stop words\n",
        "remover=StopWordsRemover(inputCol='SplittedWords',outputCol='filtered')\n",
        "\n",
        "#An object to apply count vectorizer\n",
        "cv = CountVectorizer(inputCol=\"filtered\", outputCol=\"countvector\")\n",
        "\n",
        "#tf-idf encoding\n",
        "idf = IDF(inputCol=\"countvector\", outputCol=\"encoded\")\n",
        "\n",
        "#converting label column to 0s and 1s\n",
        "strind=StringIndexer(inputCol='Label',outputCol='Class_encoded')\n"
      ],
      "metadata": {
        "id": "A-wk59qJEBuU"
      },
      "id": "A-wk59qJEBuU",
      "execution_count": 13,
      "outputs": []
    },
    {
      "cell_type": "code",
      "execution_count": 15,
      "id": "ad9d4c52",
      "metadata": {
        "id": "ad9d4c52"
      },
      "outputs": [],
      "source": [
        "#creating a vector assembler of length and TF-IDF encodings to be used for modelling\n",
        "vecAssem=VectorAssembler(inputCols=['Length','encoded'],outputCol='features')"
      ]
    },
    {
      "cell_type": "markdown",
      "id": "9775d494",
      "metadata": {
        "id": "9775d494"
      },
      "source": [
        "## **Model and Pipline**\n"
      ]
    },
    {
      "cell_type": "code",
      "execution_count": 16,
      "id": "57af0d5d",
      "metadata": {
        "id": "57af0d5d"
      },
      "outputs": [],
      "source": [
        "from pyspark.ml.classification import NaiveBayes"
      ]
    },
    {
      "cell_type": "code",
      "execution_count": 17,
      "id": "54c7384e",
      "metadata": {
        "id": "54c7384e"
      },
      "outputs": [],
      "source": [
        "nb=NaiveBayes(featuresCol='features',labelCol='Class_encoded')"
      ]
    },
    {
      "cell_type": "code",
      "execution_count": 18,
      "id": "8ee0d1ca",
      "metadata": {
        "id": "8ee0d1ca"
      },
      "outputs": [],
      "source": [
        "#in order to create the pipeline we need to define the stages\n",
        "stages=[tokenizer,remover,cv,idf,vecAssem,strind,nb]\n",
        "\n",
        "from pyspark.ml import Pipeline\n",
        "\n",
        "pl=Pipeline(stages=stages)"
      ]
    },
    {
      "cell_type": "code",
      "execution_count": 25,
      "id": "2843d997",
      "metadata": {
        "id": "2843d997"
      },
      "outputs": [],
      "source": [
        "#After splitting data to train and test , we save it to a file to make sure it wouldn't change due to using different partitions in different times\n",
        "train_messages,test_messages=df_messages_length.randomSplit([0.7,0.3],seed=42)\n",
        "train_path='/content/drive/MyDrive/spam data/Train'\n",
        "test_path='/content/drive/MyDrive/spam data/Test'\n",
        "\n",
        "#Run the following two lines only for the first time we train the model==>\n",
        "\n",
        "# train_messages.write.mode(\"overwrite\").parquet(train_path)\n",
        "# test_messages.write.mode(\"overwrite\").parquet(test_path)\n",
        "\n",
        "traindf=spark.read.parquet(train_path,header=True,inferSchema=True)\n",
        "testdf=spark.read.parquet(test_path,header=True,inferSchema=True)"
      ]
    },
    {
      "cell_type": "code",
      "execution_count": 26,
      "id": "3c5d4681",
      "metadata": {
        "id": "3c5d4681"
      },
      "outputs": [],
      "source": [
        "#fittng the pipline using training data\n",
        "pl_model=pl.fit(df_messages_length)\n",
        "\n",
        "#transform to predict both train and test data\n",
        "pred_train=pl_model.transform(traindf)\n",
        "\n",
        "pred_test=pl_model.transform(testdf)"
      ]
    },
    {
      "cell_type": "code",
      "source": [
        "#Showing predictions schema\n",
        "pred_test.printSchema()"
      ],
      "metadata": {
        "colab": {
          "base_uri": "https://localhost:8080/"
        },
        "id": "xEDgRjRR0BLd",
        "outputId": "de3f0df9-07d1-4764-dee6-66d53d767e30"
      },
      "id": "xEDgRjRR0BLd",
      "execution_count": 27,
      "outputs": [
        {
          "output_type": "stream",
          "name": "stdout",
          "text": [
            "root\n",
            " |-- Label: string (nullable = true)\n",
            " |-- Text: string (nullable = true)\n",
            " |-- Length: integer (nullable = true)\n",
            " |-- SplittedWords: array (nullable = true)\n",
            " |    |-- element: string (containsNull = true)\n",
            " |-- filtered: array (nullable = true)\n",
            " |    |-- element: string (containsNull = true)\n",
            " |-- countvector: vector (nullable = true)\n",
            " |-- encoded: vector (nullable = true)\n",
            " |-- features: vector (nullable = true)\n",
            " |-- Class_encoded: double (nullable = false)\n",
            " |-- rawPrediction: vector (nullable = true)\n",
            " |-- probability: vector (nullable = true)\n",
            " |-- prediction: double (nullable = false)\n",
            "\n"
          ]
        }
      ]
    },
    {
      "cell_type": "code",
      "execution_count": 28,
      "id": "61911086",
      "metadata": {
        "id": "61911086"
      },
      "outputs": [],
      "source": [
        "from pyspark.ml.evaluation import MulticlassClassificationEvaluator"
      ]
    },
    {
      "cell_type": "code",
      "execution_count": 29,
      "id": "be706565",
      "metadata": {
        "id": "be706565",
        "colab": {
          "base_uri": "https://localhost:8080/"
        },
        "outputId": "b82c3987-ad39-428c-9c24-c1aa7e322cd7"
      },
      "outputs": [
        {
          "output_type": "stream",
          "name": "stdout",
          "text": [
            "+-----+--------------------+------+--------------------+--------------------+--------------------+--------------------+--------------------+-------------+--------------------+--------------------+----------+\n",
            "|Label|                Text|Length|       SplittedWords|            filtered|         countvector|             encoded|            features|Class_encoded|       rawPrediction|         probability|prediction|\n",
            "+-----+--------------------+------+--------------------+--------------------+--------------------+--------------------+--------------------+-------------+--------------------+--------------------+----------+\n",
            "|  ham| &lt;DECIMAL&gt; ...|   132|[, &lt;decimal&gt...|[, &lt;decimal&gt...|(13423,[3,84,115,...|(13423,[3,84,115,...|(13424,[0,4,85,11...|          0.0|[-832.97860312094...|[1.0,1.4423445091...|       0.0|\n",
            "|  ham| said kiss, kiss,...|   133|[, said, kiss,, k...|[, said, kiss,, k...|(13423,[3,92,215,...|(13423,[3,92,215,...|(13424,[0,4,93,21...|          0.0|[-983.80575205895...|[1.0,7.0821455421...|       0.0|\n",
            "|  ham| what number do u...|    36|[, what, number, ...|[, number, u, liv...|(13423,[0,3,88,18...|(13423,[0,3,88,18...|(13424,[0,1,4,89,...|          0.0|[-294.03383623359...|[0.99999999999999...|       0.0|\n",
            "|  ham|\"Gimme a few\" was...|    41|[\"gimme, a, few\",...|[\"gimme, few\", , ...|(13423,[3,6,281,1...|(13423,[3,6,281,1...|(13424,[0,4,7,282...|          0.0|[-364.40139065268...|[1.0,8.1597119183...|       0.0|\n",
            "|  ham|\"Response\" is one...|   154|[\"response\", is, ...|[\"response\", one,...|(13423,[2,8,29,50...|(13423,[2,8,29,50...|(13424,[0,3,9,30,...|          0.0|[-1355.9501798430...|[1.0,1.0949116599...|       0.0|\n",
            "|  ham|\"SYMPTOMS\" when U...|   139|[\"symptoms\", when...|[\"symptoms\", u, l...|(13423,[0,5,10,32...|(13423,[0,5,10,32...|(13424,[0,1,6,11,...|          0.0|[-998.96100265438...|[1.0,6.4158668327...|       0.0|\n",
            "|  ham|\"Speak only when ...|    80|[\"speak, only, wh...|[\"speak, feel, wo...|(13423,[112,116,2...|(13423,[112,116,2...|(13424,[0,113,117...|          0.0|[-472.33105284893...|[1.0,2.9685511573...|       0.0|\n",
            "|  ham|&lt;#&gt;  great ...|    85|[&lt;#&gt;, , gre...|[&lt;#&gt;, , gre...|(13423,[3,6,32,61...|(13423,[3,6,32,61...|(13424,[0,4,7,33,...|          0.0|[-649.24547419706...|[1.0,3.9684307278...|       0.0|\n",
            "|  ham|&lt;#&gt;  w jett...|    37|[&lt;#&gt;, , w, ...|[&lt;#&gt;, , w, ...|(13423,[3,6,296,6...|(13423,[3,6,296,6...|(13424,[0,4,7,297...|          0.0|[-309.14876406232...|[1.0,7.4612555371...|       0.0|\n",
            "|  ham|&lt;#&gt; , that'...|    48|[&lt;#&gt;, ,, th...|[&lt;#&gt;, ,, al...|(13423,[6,212,249...|(13423,[6,212,249...|(13424,[0,7,213,2...|          0.0|[-313.16553577801...|[1.0,4.5034715046...|       0.0|\n",
            "|  ham|&lt;#&gt; ISH MIN...|    45|[&lt;#&gt;, ish, ...|[&lt;#&gt;, ish, ...|(13423,[6,246,281...|(13423,[6,246,281...|(13424,[0,7,247,2...|          0.0|[-411.74573231080...|[1.0,3.1919985671...|       0.0|\n",
            "|  ham|(I should add tha...|   132|[(i, should, add,...|[(i, add, really,...|(13423,[5,18,72,1...|(13423,[5,18,72,1...|(13424,[0,6,19,73...|          0.0|[-673.16932834512...|[1.0,1.4985540182...|       0.0|\n",
            "|  ham|(No promises on w...|    60|[(no, promises, o...|[(no, promises, t...|(13423,[102,332,2...|(13423,[102,332,2...|(13424,[0,103,333...|          0.0|[-519.39824020099...|[1.0,7.6751211406...|       0.0|\n",
            "|  ham|(That said can yo...|    43|[(that, said, can...|[(that, said, tex...|(13423,[19,29,92,...|(13423,[19,29,92,...|(13424,[0,20,30,9...|          0.0|[-288.14051044480...|[1.0,4.3755405710...|       0.0|\n",
            "|  ham|* Am on a train b...|    56|[*, am, on, a, tr...|[*, train, back, ...|(13423,[40,192,10...|(13423,[40,192,10...|(13424,[0,41,193,...|          0.0|[-389.31979867389...|[1.0,1.5227678646...|       0.0|\n",
            "|  ham|* Thought I didn'...|    27|[*, thought, i, d...|[*, thought, see,...|(13423,[32,66,168...|(13423,[32,66,168...|(13424,[0,33,67,1...|          0.0|[-153.53019281365...|[0.99999999999999...|       0.0|\n",
            "|  ham|* Was a nice day ...|   140|[*, was, a, nice,...|[*, nice, day, an...|(13423,[43,45,108...|(13423,[43,45,108...|(13424,[0,44,46,1...|          0.0|[-894.15830605733...|[1.0,8.7860800205...|       0.0|\n",
            "|  ham|* Will have two m...|    67|[*, will, have, t...|[*, two, cartons,...|(13423,[0,192,268...|(13423,[0,192,268...|(13424,[0,1,193,2...|          0.0|[-378.52354675471...|[1.0,4.7344587496...|       0.0|\n",
            "|  ham|, ,  and  picking...|   169|[,, ,, , and, , p...|[,, ,, , , pickin...|(13423,[0,2,3,8,2...|(13423,[0,2,3,8,2...|(13424,[0,1,3,4,9...|          0.0|[-1522.4686189328...|[1.0,4.0535523227...|       0.0|\n",
            "|  ham|, how's things? J...|    38|[,, how's, things...|[,, things?, quic...|(13423,[249,1154,...|(13423,[249,1154,...|(13424,[0,250,115...|          0.0|[-276.92957795408...|[1.0,5.8249615211...|       0.0|\n",
            "+-----+--------------------+------+--------------------+--------------------+--------------------+--------------------+--------------------+-------------+--------------------+--------------------+----------+\n",
            "only showing top 20 rows\n",
            "\n"
          ]
        }
      ],
      "source": [
        "#showing predictions\n",
        "pred_test.show()"
      ]
    },
    {
      "cell_type": "code",
      "source": [
        "#calculating f1-score\n",
        "f1_score = MulticlassClassificationEvaluator(predictionCol='prediction',labelCol='Class_encoded',metricName='f1')\n",
        "\n",
        "#for train\n",
        "print(f\"f1_score for train data = {f1_score.evaluate(pred_train)}\")\n",
        "\n",
        "#for test\n",
        "print(f\"f1_score for test data = {f1_score.evaluate(pred_test)}\")\n"
      ],
      "metadata": {
        "colab": {
          "base_uri": "https://localhost:8080/"
        },
        "id": "JsqPLkDc0bCy",
        "outputId": "4a65de19-c2c8-424a-986f-e620746eadef"
      },
      "id": "JsqPLkDc0bCy",
      "execution_count": 34,
      "outputs": [
        {
          "output_type": "stream",
          "name": "stdout",
          "text": [
            "f1_score for train data = 0.9964943012425527\n",
            "f1_score for test data = 0.9943889843628761\n"
          ]
        }
      ]
    }
  ],
  "metadata": {
    "kernelspec": {
      "display_name": "Python 3 (ipykernel)",
      "language": "python",
      "name": "python3"
    },
    "language_info": {
      "codemirror_mode": {
        "name": "ipython",
        "version": 3
      },
      "file_extension": ".py",
      "mimetype": "text/x-python",
      "name": "python",
      "nbconvert_exporter": "python",
      "pygments_lexer": "ipython3",
      "version": "3.9.12"
    },
    "colab": {
      "provenance": []
    }
  },
  "nbformat": 4,
  "nbformat_minor": 5
}